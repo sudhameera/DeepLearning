{
 "cells": [
  {
   "cell_type": "code",
   "execution_count": 8,
   "id": "ed6e587c",
   "metadata": {},
   "outputs": [],
   "source": [
    "import os\n",
    "\n",
    "from skimage import io\n",
    "from scipy.spatial import distance\n",
    "import numpy as np\n",
    "import cv2"
   ]
  },
  {
   "cell_type": "code",
   "execution_count": 9,
   "id": "fbc96fdb",
   "metadata": {},
   "outputs": [
    {
     "ename": "ModuleNotFoundError",
     "evalue": "No module named 'dlib'",
     "output_type": "error",
     "traceback": [
      "\u001b[1;31m---------------------------------------------------------------------------\u001b[0m",
      "\u001b[1;31mModuleNotFoundError\u001b[0m                       Traceback (most recent call last)",
      "\u001b[1;32m~\\AppData\\Local\\Temp\\ipykernel_12644\\3149249053.py\u001b[0m in \u001b[0;36m<module>\u001b[1;34m\u001b[0m\n\u001b[1;32m----> 1\u001b[1;33m \u001b[1;32mimport\u001b[0m \u001b[0mdlib\u001b[0m\u001b[1;33m\u001b[0m\u001b[1;33m\u001b[0m\u001b[0m\n\u001b[0m",
      "\u001b[1;31mModuleNotFoundError\u001b[0m: No module named 'dlib'"
     ]
    }
   ],
   "source": [
    "import dlib"
   ]
  },
  {
   "cell_type": "code",
   "execution_count": 5,
   "id": "1950f92a",
   "metadata": {},
   "outputs": [
    {
     "name": "stdout",
     "output_type": "stream",
     "text": [
      "Collecting dlib\n",
      "  Using cached dlib-19.24.2.tar.gz (11.8 MB)\n",
      "  Installing build dependencies: started\n",
      "  Installing build dependencies: still running...\n",
      "  Installing build dependencies: finished with status 'done'\n",
      "  Getting requirements to build wheel: started\n",
      "  Getting requirements to build wheel: finished with status 'done'\n",
      "  Preparing metadata (pyproject.toml): started\n",
      "  Preparing metadata (pyproject.toml): finished with status 'done'\n"
     ]
    },
    {
     "name": "stderr",
     "output_type": "stream",
     "text": [
      "ERROR: Could not find a version that satisfies the requirement 19.18.0 (from versions: none)\n",
      "ERROR: No matching distribution found for 19.18.0\n"
     ]
    }
   ],
   "source": [
    "!pip install dlib\n"
   ]
  },
  {
   "cell_type": "code",
   "execution_count": 4,
   "id": "fbfbe19a",
   "metadata": {},
   "outputs": [
    {
     "name": "stdout",
     "output_type": "stream",
     "text": [
      "Collecting cmake\n",
      "  Using cached cmake-3.27.7-py2.py3-none-win_amd64.whl (34.6 MB)\n",
      "Installing collected packages: cmake\n",
      "Successfully installed cmake-3.27.7\n"
     ]
    }
   ],
   "source": [
    "#!pip install cmake"
   ]
  },
  {
   "cell_type": "code",
   "execution_count": 7,
   "id": "0075227b",
   "metadata": {},
   "outputs": [
    {
     "name": "stdout",
     "output_type": "stream",
     "text": [
      "Collecting scikit-image\n",
      "  Downloading scikit_image-0.19.3-cp37-cp37m-win_amd64.whl (12.1 MB)\n",
      "     ---------------------------------------- 12.1/12.1 MB 9.5 MB/s eta 0:00:00\n",
      "Requirement already satisfied: pillow!=7.1.0,!=7.1.1,!=8.3.0,>=6.1.0 in c:\\users\\venka\\anaconda3\\envs\\aiml\\lib\\site-packages (from scikit-image) (9.5.0)\n",
      "Collecting networkx>=2.2\n",
      "  Downloading networkx-2.6.3-py3-none-any.whl (1.9 MB)\n",
      "     ---------------------------------------- 1.9/1.9 MB 2.5 MB/s eta 0:00:00\n",
      "Requirement already satisfied: numpy>=1.17.0 in c:\\users\\venka\\anaconda3\\envs\\aiml\\lib\\site-packages (from scikit-image) (1.21.6)\n",
      "Collecting PyWavelets>=1.1.1\n",
      "  Downloading PyWavelets-1.3.0-cp37-cp37m-win_amd64.whl (4.2 MB)\n",
      "     ---------------------------------------- 4.2/4.2 MB 7.8 MB/s eta 0:00:00\n",
      "Requirement already satisfied: packaging>=20.0 in c:\\users\\venka\\anaconda3\\envs\\aiml\\lib\\site-packages (from scikit-image) (22.0)\n",
      "Collecting tifffile>=2019.7.26\n",
      "  Downloading tifffile-2021.11.2-py3-none-any.whl (178 kB)\n",
      "     -------------------------------------- 178.9/178.9 kB 1.3 MB/s eta 0:00:00\n",
      "Requirement already satisfied: scipy>=1.4.1 in c:\\users\\venka\\anaconda3\\envs\\aiml\\lib\\site-packages (from scikit-image) (1.7.3)\n",
      "Collecting imageio>=2.4.1\n",
      "  Downloading imageio-2.31.2-py3-none-any.whl (313 kB)\n",
      "     -------------------------------------- 313.2/313.2 kB 3.9 MB/s eta 0:00:00\n",
      "Installing collected packages: tifffile, PyWavelets, networkx, imageio, scikit-image\n",
      "Successfully installed PyWavelets-1.3.0 imageio-2.31.2 networkx-2.6.3 scikit-image-0.19.3 tifffile-2021.11.2\n"
     ]
    }
   ],
   "source": [
    "!pip install scikit-image"
   ]
  },
  {
   "cell_type": "code",
   "execution_count": 12,
   "id": "eab41f03",
   "metadata": {},
   "outputs": [],
   "source": [
    "\n",
    "\n",
    "#path = './train'\n",
    "\n",
    "def mainFunc():\n",
    "    print(\"Start Capture\")\n",
    "    id = [] #Array with the names of people entered in the database\n",
    "\n",
    "    for f in os.listdir(path):\n",
    "        name = str(f).replace(\".jpg\", \"\")\n",
    "        id.append(name)\n",
    "    id.sort()  \n",
    "\n",
    "    print(\"All base: \", end='')\n",
    "    print(id)\n",
    "    \n",
    "\n",
    "    sp = dlib.shape_predictor('./shape_predictor_68_face_landmarks.dat') \n",
    "    facerec = dlib.face_recognition_model_v1('./dlib_face_recognition_resnet_model_v1.dat') #Load the trained models\n",
    "\n",
    "    #Part for extracting the descriptor (the thing that helps recognize faces) from each photo\n",
    "    detector = dlib.get_frontal_face_detector()\n",
    "    face_descriptor = []\n",
    "    imagePaths = [os.path.join(path,f) for f in os.listdir(path)]  \n",
    "    imagePaths.sort()  \n",
    "    for imagePath in imagePaths:\n",
    "        img = io.imread(imagePath)\n",
    "\n",
    "        dets = detector(img, 1)\n",
    "\n",
    "        for k, d in enumerate(dets):\n",
    "            shape = sp(img, d)\n",
    "\n",
    "        face_descriptor.append(facerec.compute_face_descriptor(img, shape))\n",
    "    #END \n",
    "\n",
    "    cap = cv2.VideoCapture(0) #Turn on webcam with opencv\n",
    "    \n",
    "    while(True):\n",
    "        ret, img = cap.read() #We take the image from the webcam\n",
    "        dets_webcam = detector(img, 1)\n",
    "        for k, d in enumerate(dets_webcam):\n",
    "            shape = sp(img, d)\n",
    "        flag = True\n",
    "        face_descriptor2 = facerec.compute_face_descriptor(img, shape)\n",
    "        for i in range(0, len(face_descriptor)):\n",
    "            a = distance.euclidean(face_descriptor[i], face_descriptor2)\n",
    "            if a < 0.6:\n",
    "                print(id[i])\n",
    "                flag = False\n",
    "        if flag == True:\n",
    "            print('Unknown')    \n",
    "\n",
    "    cap.release()\n",
    "    cv2.destroyAllWindows()\n",
    "\n"
   ]
  },
  {
   "cell_type": "code",
   "execution_count": null,
   "id": "2c1c1085",
   "metadata": {},
   "outputs": [],
   "source": []
  }
 ],
 "metadata": {
  "kernelspec": {
   "display_name": "Python 3 (ipykernel)",
   "language": "python",
   "name": "python3"
  },
  "language_info": {
   "codemirror_mode": {
    "name": "ipython",
    "version": 3
   },
   "file_extension": ".py",
   "mimetype": "text/x-python",
   "name": "python",
   "nbconvert_exporter": "python",
   "pygments_lexer": "ipython3",
   "version": "3.7.6"
  }
 },
 "nbformat": 4,
 "nbformat_minor": 5
}
