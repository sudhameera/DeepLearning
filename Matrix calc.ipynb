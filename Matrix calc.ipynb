{
 "cells": [
  {
   "cell_type": "code",
   "execution_count": 1,
   "id": "6082695a",
   "metadata": {},
   "outputs": [],
   "source": [
    "import numpy as np\n",
    "import pandas as pd"
   ]
  },
  {
   "cell_type": "code",
   "execution_count": 6,
   "id": "f34116d3",
   "metadata": {},
   "outputs": [],
   "source": [
    "revenue=np.array ([[200,220,250],[68,79,105],[110,140,180],[80,85,90]])\n",
    "inr=75"
   ]
  },
  {
   "cell_type": "code",
   "execution_count": 13,
   "id": "654d5ffe",
   "metadata": {},
   "outputs": [
    {
     "data": {
      "text/plain": [
       "array([[15000, 16500, 18750],\n",
       "       [ 5100,  5925,  7875],\n",
       "       [ 8250, 10500, 13500],\n",
       "       [ 6000,  6375,  6750]])"
      ]
     },
     "execution_count": 13,
     "metadata": {},
     "output_type": "execute_result"
    }
   ],
   "source": [
    "dollartoinr = revenue*inr\n",
    "dollartoinr"
   ]
  },
  {
   "cell_type": "code",
   "execution_count": 14,
   "id": "6cdac786",
   "metadata": {},
   "outputs": [],
   "source": [
    "roses=np.array([[50,60,25],[10,13,5],[40,70,52]])\n",
    "price=np.array([20,30,15])"
   ]
  },
  {
   "cell_type": "code",
   "execution_count": 15,
   "id": "449743b7",
   "metadata": {},
   "outputs": [
    {
     "data": {
      "text/plain": [
       "array([3175,  665, 3680])"
      ]
     },
     "execution_count": 15,
     "metadata": {},
     "output_type": "execute_result"
    }
   ],
   "source": [
    "np.dot(roses,price)"
   ]
  },
  {
   "cell_type": "code",
   "execution_count": null,
   "id": "c46ea400",
   "metadata": {},
   "outputs": [],
   "source": []
  }
 ],
 "metadata": {
  "kernelspec": {
   "display_name": "Python 3 (ipykernel)",
   "language": "python",
   "name": "python3"
  },
  "language_info": {
   "codemirror_mode": {
    "name": "ipython",
    "version": 3
   },
   "file_extension": ".py",
   "mimetype": "text/x-python",
   "name": "python",
   "nbconvert_exporter": "python",
   "pygments_lexer": "ipython3",
   "version": "3.7.6"
  }
 },
 "nbformat": 4,
 "nbformat_minor": 5
}
